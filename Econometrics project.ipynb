# Importing required libraries
import pandas as pd
import statsmodels.api as sm
import matplotlib.pyplot as plt
import seaborn as sns
import numpy as np
from scipy import stats

# Question 5.3
# Reading file
data_set = pd.read_csv('Table_2.6.csv')

# OLS estimation
X = sm.add_constant(data_set['school'])  # adding a constant for intercept
ols = sm.OLS(data_set['wage'], X).fit()  # ols_asset

# Summary of OLS estimate
print(ols.summary())

# Running ANOVA
anova_results = sm.stats.anova_lm(ols, typ=2)
print(anova_results)

# Question 5.9
# Reading file
data_set = pd.read_csv('Table_5.5.csv')

# OLS estimation
X = sm.add_constant(data_set['SPENDING'])  # adding a constant for intercept
ols = sm.OLS(data_set['SALARY'], X).fit()

# Summary of OLS estimate
print(ols.summary())

# Plotting
sns.scatterplot(data=data_set, x='SPENDING', y='SALARY')
sns.regplot(data=data_set, x='SPENDING', y='SALARY', scatter=False, color='red')
plt.show()

# Confidence intervals
conf_int = ols.conf_int(alpha=0.05)  # 95% CI
print("95% Confidence Intervals for the slope:")
print(conf_int.loc['SPENDING'])

# Question 6.14
# Clear memory
# In Python, memory is managed automatically.

# Set working directory (not needed in Python)
# import os
# os.chdir("C:/Users/pooja/OneDrive/UTD_Spring 2022/BUAN 6312.001/Assignments/Assignment-3")

# Read data file
sample_data = pd.read_csv("Table_6.8.csv")

# Running the OLS regression model
X = sm.add_constant(sample_data['l_wage'])  # adding a constant for intercept
ols = sm.OLS(sample_data['l_voverl'], X).fit()
print(ols.summary())

# Question 7.1
# Clear memory
# In Python, memory is managed automatically.

# Read data file
sample_data = pd.read_csv("Table_7.5.csv")

# Running the OLS regression models
# OLS summary of first equation
ols1 = sm.OLS(sample_data['Y'], sm.add_constant(sample_data['X2'])).fit()
print(ols1.summary())

# OLS summary of second equation
ols2 = sm.OLS(sample_data['Y'], sm.add_constant(sample_data['X3'])).fit()
print(ols2.summary())

# OLS summary of third equation
ols3 = sm.OLS(sample_data['Y'], sm.add_constant(sample_data[['X2', 'X3']])).fit()
print(ols3.summary())

# Question 7.18
Table_7_8 = pd.read_csv('Table_7.8.csv')

mlr = sm.OLS(Table_7_8['Y'], sm.add_constant(Table_7_8[['X2', 'X3', 'X4', 'X5']])).fit()
print(mlr.summary())

# Question 7.23
Table_2_6 = pd.read_csv('Table_2.6.csv')

Table_2_6['ln_wage'] = np.log(Table_2_6['wage'])
Table_2_6['ln_education'] = np.log(Table_2_6['school'])
Table_2_6['ln_education_2'] = Table_2_6['ln_education'] ** 2

mlr_2_6 = sm.OLS(Table_2_6['ln_wage'], sm.add_constant(Table_2_6[['ln_education', 'ln_education_2']])).fit()
print(mlr_2_6.summary())
